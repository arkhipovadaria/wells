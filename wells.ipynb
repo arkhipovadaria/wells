{
 "cells": [
  {
   "cell_type": "markdown",
   "metadata": {},
   "source": [
    "### Описание данных\n",
    "\n",
    "- id — уникальный идентификатор скважины;\n",
    "- f0\n",
    "- f1\n",
    "- f2 — три признака точек;\n",
    "- product — объём запасов в скважине (тыс. баррелей).\n"
   ]
  },
  {
   "cell_type": "markdown",
   "metadata": {},
   "source": [
    "# 1. Загрузка и подготовка данных"
   ]
  },
  {
   "cell_type": "code",
   "execution_count": 1,
   "metadata": {},
   "outputs": [],
   "source": [
    "import pandas as pd\n",
    "from sklearn.model_selection import train_test_split\n",
    "from sklearn.linear_model import LinearRegression\n",
    "from sklearn.metrics import mean_squared_error\n",
    "import numpy as np"
   ]
  },
  {
   "cell_type": "code",
   "execution_count": 2,
   "metadata": {},
   "outputs": [],
   "source": [
    "from IPython.core.interactiveshell import InteractiveShell\n",
    "InteractiveShell.ast_node_interactivity = \"all\""
   ]
  },
  {
   "cell_type": "code",
   "execution_count": 3,
   "metadata": {},
   "outputs": [
    {
     "data": {
      "text/html": [
       "<div>\n",
       "<style scoped>\n",
       "    .dataframe tbody tr th:only-of-type {\n",
       "        vertical-align: middle;\n",
       "    }\n",
       "\n",
       "    .dataframe tbody tr th {\n",
       "        vertical-align: top;\n",
       "    }\n",
       "\n",
       "    .dataframe thead th {\n",
       "        text-align: right;\n",
       "    }\n",
       "</style>\n",
       "<table border=\"1\" class=\"dataframe\">\n",
       "  <thead>\n",
       "    <tr style=\"text-align: right;\">\n",
       "      <th></th>\n",
       "      <th>id</th>\n",
       "      <th>f0</th>\n",
       "      <th>f1</th>\n",
       "      <th>f2</th>\n",
       "      <th>product</th>\n",
       "    </tr>\n",
       "  </thead>\n",
       "  <tbody>\n",
       "    <tr>\n",
       "      <td>0</td>\n",
       "      <td>txEyH</td>\n",
       "      <td>0.705745</td>\n",
       "      <td>-0.497823</td>\n",
       "      <td>1.221170</td>\n",
       "      <td>105.280062</td>\n",
       "    </tr>\n",
       "    <tr>\n",
       "      <td>1</td>\n",
       "      <td>2acmU</td>\n",
       "      <td>1.334711</td>\n",
       "      <td>-0.340164</td>\n",
       "      <td>4.365080</td>\n",
       "      <td>73.037750</td>\n",
       "    </tr>\n",
       "    <tr>\n",
       "      <td>2</td>\n",
       "      <td>409Wp</td>\n",
       "      <td>1.022732</td>\n",
       "      <td>0.151990</td>\n",
       "      <td>1.419926</td>\n",
       "      <td>85.265647</td>\n",
       "    </tr>\n",
       "    <tr>\n",
       "      <td>3</td>\n",
       "      <td>iJLyR</td>\n",
       "      <td>-0.032172</td>\n",
       "      <td>0.139033</td>\n",
       "      <td>2.978566</td>\n",
       "      <td>168.620776</td>\n",
       "    </tr>\n",
       "    <tr>\n",
       "      <td>4</td>\n",
       "      <td>Xdl7t</td>\n",
       "      <td>1.988431</td>\n",
       "      <td>0.155413</td>\n",
       "      <td>4.751769</td>\n",
       "      <td>154.036647</td>\n",
       "    </tr>\n",
       "  </tbody>\n",
       "</table>\n",
       "</div>"
      ],
      "text/plain": [
       "      id        f0        f1        f2     product\n",
       "0  txEyH  0.705745 -0.497823  1.221170  105.280062\n",
       "1  2acmU  1.334711 -0.340164  4.365080   73.037750\n",
       "2  409Wp  1.022732  0.151990  1.419926   85.265647\n",
       "3  iJLyR -0.032172  0.139033  2.978566  168.620776\n",
       "4  Xdl7t  1.988431  0.155413  4.751769  154.036647"
      ]
     },
     "execution_count": 3,
     "metadata": {},
     "output_type": "execute_result"
    },
    {
     "data": {
      "text/html": [
       "<div>\n",
       "<style scoped>\n",
       "    .dataframe tbody tr th:only-of-type {\n",
       "        vertical-align: middle;\n",
       "    }\n",
       "\n",
       "    .dataframe tbody tr th {\n",
       "        vertical-align: top;\n",
       "    }\n",
       "\n",
       "    .dataframe thead th {\n",
       "        text-align: right;\n",
       "    }\n",
       "</style>\n",
       "<table border=\"1\" class=\"dataframe\">\n",
       "  <thead>\n",
       "    <tr style=\"text-align: right;\">\n",
       "      <th></th>\n",
       "      <th>id</th>\n",
       "      <th>f0</th>\n",
       "      <th>f1</th>\n",
       "      <th>f2</th>\n",
       "      <th>product</th>\n",
       "    </tr>\n",
       "  </thead>\n",
       "  <tbody>\n",
       "    <tr>\n",
       "      <td>0</td>\n",
       "      <td>kBEdx</td>\n",
       "      <td>-15.001348</td>\n",
       "      <td>-8.276000</td>\n",
       "      <td>-0.005876</td>\n",
       "      <td>3.179103</td>\n",
       "    </tr>\n",
       "    <tr>\n",
       "      <td>1</td>\n",
       "      <td>62mP7</td>\n",
       "      <td>14.272088</td>\n",
       "      <td>-3.475083</td>\n",
       "      <td>0.999183</td>\n",
       "      <td>26.953261</td>\n",
       "    </tr>\n",
       "    <tr>\n",
       "      <td>2</td>\n",
       "      <td>vyE1P</td>\n",
       "      <td>6.263187</td>\n",
       "      <td>-5.948386</td>\n",
       "      <td>5.001160</td>\n",
       "      <td>134.766305</td>\n",
       "    </tr>\n",
       "    <tr>\n",
       "      <td>3</td>\n",
       "      <td>KcrkZ</td>\n",
       "      <td>-13.081196</td>\n",
       "      <td>-11.506057</td>\n",
       "      <td>4.999415</td>\n",
       "      <td>137.945408</td>\n",
       "    </tr>\n",
       "    <tr>\n",
       "      <td>4</td>\n",
       "      <td>AHL4O</td>\n",
       "      <td>12.702195</td>\n",
       "      <td>-8.147433</td>\n",
       "      <td>5.004363</td>\n",
       "      <td>134.766305</td>\n",
       "    </tr>\n",
       "  </tbody>\n",
       "</table>\n",
       "</div>"
      ],
      "text/plain": [
       "      id         f0         f1        f2     product\n",
       "0  kBEdx -15.001348  -8.276000 -0.005876    3.179103\n",
       "1  62mP7  14.272088  -3.475083  0.999183   26.953261\n",
       "2  vyE1P   6.263187  -5.948386  5.001160  134.766305\n",
       "3  KcrkZ -13.081196 -11.506057  4.999415  137.945408\n",
       "4  AHL4O  12.702195  -8.147433  5.004363  134.766305"
      ]
     },
     "execution_count": 3,
     "metadata": {},
     "output_type": "execute_result"
    },
    {
     "data": {
      "text/html": [
       "<div>\n",
       "<style scoped>\n",
       "    .dataframe tbody tr th:only-of-type {\n",
       "        vertical-align: middle;\n",
       "    }\n",
       "\n",
       "    .dataframe tbody tr th {\n",
       "        vertical-align: top;\n",
       "    }\n",
       "\n",
       "    .dataframe thead th {\n",
       "        text-align: right;\n",
       "    }\n",
       "</style>\n",
       "<table border=\"1\" class=\"dataframe\">\n",
       "  <thead>\n",
       "    <tr style=\"text-align: right;\">\n",
       "      <th></th>\n",
       "      <th>id</th>\n",
       "      <th>f0</th>\n",
       "      <th>f1</th>\n",
       "      <th>f2</th>\n",
       "      <th>product</th>\n",
       "    </tr>\n",
       "  </thead>\n",
       "  <tbody>\n",
       "    <tr>\n",
       "      <td>0</td>\n",
       "      <td>fwXo0</td>\n",
       "      <td>-1.146987</td>\n",
       "      <td>0.963328</td>\n",
       "      <td>-0.828965</td>\n",
       "      <td>27.758673</td>\n",
       "    </tr>\n",
       "    <tr>\n",
       "      <td>1</td>\n",
       "      <td>WJtFt</td>\n",
       "      <td>0.262778</td>\n",
       "      <td>0.269839</td>\n",
       "      <td>-2.530187</td>\n",
       "      <td>56.069697</td>\n",
       "    </tr>\n",
       "    <tr>\n",
       "      <td>2</td>\n",
       "      <td>ovLUW</td>\n",
       "      <td>0.194587</td>\n",
       "      <td>0.289035</td>\n",
       "      <td>-5.586433</td>\n",
       "      <td>62.871910</td>\n",
       "    </tr>\n",
       "    <tr>\n",
       "      <td>3</td>\n",
       "      <td>q6cA6</td>\n",
       "      <td>2.236060</td>\n",
       "      <td>-0.553760</td>\n",
       "      <td>0.930038</td>\n",
       "      <td>114.572842</td>\n",
       "    </tr>\n",
       "    <tr>\n",
       "      <td>4</td>\n",
       "      <td>WPMUX</td>\n",
       "      <td>-0.515993</td>\n",
       "      <td>1.716266</td>\n",
       "      <td>5.899011</td>\n",
       "      <td>149.600746</td>\n",
       "    </tr>\n",
       "  </tbody>\n",
       "</table>\n",
       "</div>"
      ],
      "text/plain": [
       "      id        f0        f1        f2     product\n",
       "0  fwXo0 -1.146987  0.963328 -0.828965   27.758673\n",
       "1  WJtFt  0.262778  0.269839 -2.530187   56.069697\n",
       "2  ovLUW  0.194587  0.289035 -5.586433   62.871910\n",
       "3  q6cA6  2.236060 -0.553760  0.930038  114.572842\n",
       "4  WPMUX -0.515993  1.716266  5.899011  149.600746"
      ]
     },
     "execution_count": 3,
     "metadata": {},
     "output_type": "execute_result"
    }
   ],
   "source": [
    "first_region.head()\n",
    "second_region.head()\n",
    "third_region.head()"
   ]
  },
  {
   "cell_type": "code",
   "execution_count": 4,
   "metadata": {},
   "outputs": [
    {
     "name": "stdout",
     "output_type": "stream",
     "text": [
      "<class 'pandas.core.frame.DataFrame'>\n",
      "RangeIndex: 100000 entries, 0 to 99999\n",
      "Data columns (total 5 columns):\n",
      "id         100000 non-null object\n",
      "f0         100000 non-null float64\n",
      "f1         100000 non-null float64\n",
      "f2         100000 non-null float64\n",
      "product    100000 non-null float64\n",
      "dtypes: float64(4), object(1)\n",
      "memory usage: 3.8+ MB\n",
      "<class 'pandas.core.frame.DataFrame'>\n",
      "RangeIndex: 100000 entries, 0 to 99999\n",
      "Data columns (total 5 columns):\n",
      "id         100000 non-null object\n",
      "f0         100000 non-null float64\n",
      "f1         100000 non-null float64\n",
      "f2         100000 non-null float64\n",
      "product    100000 non-null float64\n",
      "dtypes: float64(4), object(1)\n",
      "memory usage: 3.8+ MB\n",
      "<class 'pandas.core.frame.DataFrame'>\n",
      "RangeIndex: 100000 entries, 0 to 99999\n",
      "Data columns (total 5 columns):\n",
      "id         100000 non-null object\n",
      "f0         100000 non-null float64\n",
      "f1         100000 non-null float64\n",
      "f2         100000 non-null float64\n",
      "product    100000 non-null float64\n",
      "dtypes: float64(4), object(1)\n",
      "memory usage: 3.8+ MB\n"
     ]
    }
   ],
   "source": [
    "first_region.info()\n",
    "second_region.info()\n",
    "third_region.info()"
   ]
  },
  {
   "cell_type": "markdown",
   "metadata": {},
   "source": [
    "**Пропусков** нет, названия столбцов в английской раскладке, в нижнем регистре. Лишних столбцов нет.\n",
    "\n",
    "**Посмотрим дубликаты**"
   ]
  },
  {
   "cell_type": "code",
   "execution_count": 5,
   "metadata": {},
   "outputs": [
    {
     "name": "stdout",
     "output_type": "stream",
     "text": [
      "Количество дубликатов по id в первом регионе: 10\n",
      "Количество дубликатов по id во втором регионе: 4\n",
      "Количество дубликатов по id во третьем регионе: 4\n"
     ]
    }
   ],
   "source": [
    "print('Количество дубликатов по id в первом регионе:', int(pd.DataFrame(first_region['id'].value_counts()).query('id > 1').count()))\n",
    "print('Количество дубликатов по id во втором регионе:', int(pd.DataFrame(second_region['id'].value_counts()).query('id > 1').count()))\n",
    "print('Количество дубликатов по id во третьем регионе:', int(pd.DataFrame(third_region['id'].value_counts()).query('id > 1').count()))"
   ]
  },
  {
   "cell_type": "code",
   "execution_count": 6,
   "metadata": {},
   "outputs": [
    {
     "name": "stdout",
     "output_type": "stream",
     "text": [
      "Количество дубликатов по 1 признаку в первом регионе: 0\n",
      "Количество дубликатов по 1 признаку во втором регионе: 0\n",
      "Количество дубликатов по 1 признаку во третьем регионе: 0\n"
     ]
    }
   ],
   "source": [
    "print('Количество дубликатов по 1 признаку в первом регионе:', int(pd.DataFrame(first_region['f0'].value_counts()).query('f0 > 1').count()))\n",
    "print('Количество дубликатов по 1 признаку во втором регионе:', int(pd.DataFrame(second_region['f0'].value_counts()).query('f0 > 1').count()))\n",
    "print('Количество дубликатов по 1 признаку во третьем регионе:', int(pd.DataFrame(third_region['f0'].value_counts()).query('f0 > 1').count()))"
   ]
  },
  {
   "cell_type": "code",
   "execution_count": 7,
   "metadata": {},
   "outputs": [
    {
     "name": "stdout",
     "output_type": "stream",
     "text": [
      "Количество дубликатов по 2 признаку в первом регионе: 0\n",
      "Количество дубликатов по 2 признаку во втором регионе: 0\n",
      "Количество дубликатов по 2 признаку во третьем регионе: 0\n"
     ]
    }
   ],
   "source": [
    "print('Количество дубликатов по 2 признаку в первом регионе:', int(pd.DataFrame(first_region['f1'].value_counts()).query('f1 > 1').count()))\n",
    "print('Количество дубликатов по 2 признаку во втором регионе:', int(pd.DataFrame(second_region['f1'].value_counts()).query('f1 > 1').count()))\n",
    "print('Количество дубликатов по 2 признаку во третьем регионе:', int(pd.DataFrame(third_region['f1'].value_counts()).query('f1 > 1').count()))"
   ]
  },
  {
   "cell_type": "code",
   "execution_count": 8,
   "metadata": {},
   "outputs": [
    {
     "name": "stdout",
     "output_type": "stream",
     "text": [
      "Количество дубликатов по 3 признаку в первом регионе: 0\n",
      "Количество дубликатов по 3 признаку во втором регионе: 0\n",
      "Количество дубликатов по 3 признаку во третьем регионе: 0\n"
     ]
    }
   ],
   "source": [
    "print('Количество дубликатов по 3 признаку в первом регионе:', int(pd.DataFrame(first_region['f2'].value_counts()).query('f2 > 1').count()))\n",
    "print('Количество дубликатов по 3 признаку во втором регионе:', int(pd.DataFrame(second_region['f2'].value_counts()).query('f2 > 1').count()))\n",
    "print('Количество дубликатов по 3 признаку во третьем регионе:', int(pd.DataFrame(third_region['f2'].value_counts()).query('f2 > 1').count()))"
   ]
  },
  {
   "cell_type": "markdown",
   "metadata": {},
   "source": [
    "С одной стороны, показатели для каждой продублированной скважины можно сложить - тогда объём запасов в них просуммируется, это относительно логично. С другой стороны, в таком случае каждую скважину проанализировали и нашли сначала одну половину запасов, потом другую - что невозможно. Суммировать 3 остальные характеристики также некорректно, так как мы не знаем их природу и метод анализа скважины. Так как таких данных мало, их можно просто удалить."
   ]
  },
  {
   "cell_type": "code",
   "execution_count": 9,
   "metadata": {},
   "outputs": [],
   "source": [
    "first_region = first_region.drop_duplicates(subset='id')\n",
    "second_region = second_region.drop_duplicates(subset='id')\n",
    "third_region = third_region.drop_duplicates(subset='id')"
   ]
  },
  {
   "cell_type": "markdown",
   "metadata": {},
   "source": [
    "В самих таблицах айдишники нужны для предобработки данных, а в процессе обучения модели будут мешаться, поэтому айдишники во всех трёх регионах удалим"
   ]
  },
  {
   "cell_type": "code",
   "execution_count": 10,
   "metadata": {},
   "outputs": [],
   "source": [
    "del first_region['id']\n",
    "del second_region['id']\n",
    "del third_region['id']"
   ]
  },
  {
   "cell_type": "markdown",
   "metadata": {},
   "source": [
    "# 2. Обучение и проверка модели"
   ]
  },
  {
   "cell_type": "markdown",
   "metadata": {},
   "source": [
    "**Регион 1**"
   ]
  },
  {
   "cell_type": "code",
   "execution_count": 11,
   "metadata": {},
   "outputs": [],
   "source": [
    "first_train, first_valid = train_test_split(first_region, test_size=0.25, random_state=12345)\n",
    "\n",
    "first_target_train = first_train['product'].reset_index(drop=True)\n",
    "first_features_train = first_train.copy(deep=True).reset_index(drop=True)\n",
    "del first_features_train['product']\n",
    "\n",
    "first_target_valid = first_valid['product'].reset_index(drop=True).reset_index(drop=True)\n",
    "first_features_valid = first_valid.copy(deep=True).reset_index(drop=True)\n",
    "del first_features_valid['product']"
   ]
  },
  {
   "cell_type": "code",
   "execution_count": 12,
   "metadata": {},
   "outputs": [
    {
     "name": "stdout",
     "output_type": "stream",
     "text": [
      "rmse = 37.853527328872964\n",
      "Средний запас предсказанного сырья = 92.78915638280621\n"
     ]
    }
   ],
   "source": [
    "first_model = LinearRegression().fit(first_features_train, first_target_train)\n",
    "first_model_predict = pd.Series(first_model.predict(first_features_valid))\n",
    "print('rmse =', mean_squared_error(first_model_predict, first_target_valid) ** 0.5)\n",
    "print('Средний запас предсказанного сырья =',first_model_predict.mean())"
   ]
  },
  {
   "cell_type": "markdown",
   "metadata": {},
   "source": [
    "**Регион 2**"
   ]
  },
  {
   "cell_type": "code",
   "execution_count": 13,
   "metadata": {},
   "outputs": [],
   "source": [
    "second_train, second_valid = train_test_split(second_region, test_size=0.25, random_state=12345)\n",
    "\n",
    "second_target_train = second_train['product'].reset_index(drop=True)\n",
    "second_features_train = second_train.copy(deep=True).reset_index(drop=True)\n",
    "del second_features_train['product']\n",
    "\n",
    "second_target_valid = second_valid['product'].reset_index(drop=True)\n",
    "second_features_valid = second_valid.copy(deep=True).reset_index(drop=True)\n",
    "del second_features_valid['product']"
   ]
  },
  {
   "cell_type": "code",
   "execution_count": 14,
   "metadata": {},
   "outputs": [
    {
     "name": "stdout",
     "output_type": "stream",
     "text": [
      "rmse = 0.8920592647717019\n",
      "Средний запас предсказанного сырья = 69.17831957030432\n"
     ]
    }
   ],
   "source": [
    "second_model = LinearRegression().fit(second_features_train, second_target_train)\n",
    "second_model_predict = pd.Series(second_model.predict(second_features_valid))\n",
    "print('rmse =', mean_squared_error(second_model_predict, second_target_valid) ** 0.5)\n",
    "print('Средний запас предсказанного сырья =',second_model_predict.mean())"
   ]
  },
  {
   "cell_type": "markdown",
   "metadata": {},
   "source": [
    "**Регион 3**"
   ]
  },
  {
   "cell_type": "code",
   "execution_count": 15,
   "metadata": {},
   "outputs": [],
   "source": [
    "third_train, third_valid = train_test_split(third_region, test_size=0.25, random_state=12345)\n",
    "\n",
    "third_target_train = third_train['product'].reset_index(drop=True)\n",
    "third_features_train = third_train.copy(deep=True).reset_index(drop=True)\n",
    "del third_features_train['product']\n",
    "\n",
    "third_target_valid = third_valid['product']\n",
    "third_features_valid = third_valid.copy(deep=True)\n",
    "del third_features_valid['product']"
   ]
  },
  {
   "cell_type": "code",
   "execution_count": 16,
   "metadata": {},
   "outputs": [
    {
     "name": "stdout",
     "output_type": "stream",
     "text": [
      "rmse = 40.07585073246016\n",
      "Средний запас предсказанного сырья = 94.86572480562035\n"
     ]
    }
   ],
   "source": [
    "third_model = LinearRegression().fit(third_features_train, third_target_train)\n",
    "third_model_predict = pd.Series(third_model.predict(third_features_valid))\n",
    "print('rmse =', mean_squared_error(third_model_predict, third_target_valid) ** 0.5)\n",
    "print('Средний запас предсказанного сырья =',third_model_predict.mean())"
   ]
  },
  {
   "cell_type": "markdown",
   "metadata": {},
   "source": [
    "Первый и третий регионы понятны модели хуже, чем второй, однако в них предсказано сырья в 1,32 раза больше."
   ]
  },
  {
   "cell_type": "markdown",
   "metadata": {},
   "source": [
    "# 3. Подготовка к расчёту прибыли"
   ]
  },
  {
   "cell_type": "code",
   "execution_count": 17,
   "metadata": {},
   "outputs": [
    {
     "name": "stdout",
     "output_type": "stream",
     "text": [
      "Достаточный объём сырья для безубыточной разработки одной новой скважины из предполагаемых 200сот = 111.11111111111111\n"
     ]
    }
   ],
   "source": [
    "BUDGET = 10 ** 10\n",
    "REVENUE_PER_BARREL = 450 * 10**3\n",
    "WELLS_NUMBER = 200\n",
    "ANALYZED_WELLS = 500\n",
    "DIFFERENT_SAMPLES_NUMBER = 1000\n",
    "print('Достаточный объём сырья для безубыточной разработки одной новой скважины из предполагаемых 200сот =', BUDGET / WELLS_NUMBER / REVENUE_PER_BARREL)"
   ]
  },
  {
   "cell_type": "markdown",
   "metadata": {},
   "source": [
    "Среднего запаса сырья в каждом регионе не хватает. Именно поэтому в данном случае следует использовать машинное обучение и находить те скважины, в которых запаса больше"
   ]
  },
  {
   "cell_type": "markdown",
   "metadata": {},
   "source": [
    "# 4. Расчёт прибыли"
   ]
  },
  {
   "cell_type": "code",
   "execution_count": 35,
   "metadata": {},
   "outputs": [
    {
     "name": "stdout",
     "output_type": "stream",
     "text": [
      "---Первый регион---\n",
      "Прибыль = 1026696862846.3364\n",
      "\n",
      "---Второй регион---\n",
      "Прибыль = 768311861387.9342\n",
      "\n",
      "---Третий регион---\n",
      "Прибыль = 251976289796.1191\n"
     ]
    }
   ],
   "source": [
    "def revenue(target, predict, count):\n",
    "    best = pd.Series(predict).sort_values(ascending=False)\n",
    "    selected = target[best.index][:count]\n",
    "    return (REVENUE_PER_BARREL * selected.sum()) - BUDGET\n",
    "\n",
    "print('---Первый регион---')\n",
    "print('Прибыль =', revenue(first_target_valid, first_model_predict, len(first_model_predict)))\n",
    "print()\n",
    "print('---Второй регион---')\n",
    "print('Прибыль =', revenue(second_target_valid, second_model_predict, len(second_model_predict)))\n",
    "print()\n",
    "print('---Третий регион---')\n",
    "print('Прибыль =', revenue(third_target_valid, third_model_predict, len(third_model_predict)))"
   ]
  },
  {
   "cell_type": "markdown",
   "metadata": {},
   "source": [
    "# 5. Расчёт  рисков "
   ]
  },
  {
   "cell_type": "markdown",
   "metadata": {},
   "source": [
    "**Первый регион**"
   ]
  },
  {
   "cell_type": "code",
   "execution_count": 42,
   "metadata": {},
   "outputs": [
    {
     "name": "stdout",
     "output_type": "stream",
     "text": [
      "Средняя выручка: 409428038.62143606\n",
      "95%-ый доверительный интервал: (-131536028.70166382, 944395582.7546725)\n",
      "Риск убытка = 7.1 %\n"
     ]
    }
   ],
   "source": [
    "state = np.random.RandomState(12345)\n",
    "    \n",
    "values = []\n",
    "for i in range(DIFFERENT_SAMPLES_NUMBER):\n",
    "    target_subsample = first_target_valid.sample(n=ANALYZED_WELLS, replace=True, random_state=state)\n",
    "    probs_subsample = first_model_predict[target_subsample.index]\n",
    "    rev = revenue(target_subsample, probs_subsample, WELLS_NUMBER)\n",
    "    values.append(rev)\n",
    "\n",
    "values = pd.Series(values)\n",
    "confidence_interval = (values.quantile(0.025), values.quantile(0.975))\n",
    "risk_of_loss = len(values[values < 0]) * 100 / len(values)\n",
    "mean = values.mean()\n",
    "print(\"Средняя выручка:\", mean)\n",
    "print(\"95%-ый доверительный интервал:\", confidence_interval)\n",
    "print('Риск убытка =', risk_of_loss, \"%\")"
   ]
  },
  {
   "cell_type": "markdown",
   "metadata": {},
   "source": [
    "**Второй регион**"
   ]
  },
  {
   "cell_type": "code",
   "execution_count": 45,
   "metadata": {},
   "outputs": [
    {
     "name": "stdout",
     "output_type": "stream",
     "text": [
      "Средняя выручка: 527685754.0114966\n",
      "95%-ый доверительный интервал: (129535167.64558092, 956581469.1039761)\n",
      "Риск убытка = 0.4 %\n"
     ]
    }
   ],
   "source": [
    "values = []\n",
    "for i in range(DIFFERENT_SAMPLES_NUMBER):\n",
    "    target_subsample = second_target_valid.sample(n=ANALYZED_WELLS, replace=True, random_state=state)\n",
    "    probs_subsample = second_model_predict[target_subsample.index]\n",
    "    rev = revenue(target_subsample, probs_subsample, WELLS_NUMBER)\n",
    "    values.append(rev)\n",
    "\n",
    "values = pd.Series(values)\n",
    "confidence_interval = (values.quantile(0.025), values.quantile(0.975))\n",
    "risk_of_loss = len(values[values < 0]) * 100 / len(values)\n",
    "mean = values.mean()\n",
    "print(\"Средняя выручка:\", mean)\n",
    "print(\"95%-ый доверительный интервал:\", confidence_interval)\n",
    "print('Риск убытка =', risk_of_loss, '%')"
   ]
  },
  {
   "cell_type": "markdown",
   "metadata": {},
   "source": [
    "**Третий регион**"
   ]
  },
  {
   "cell_type": "code",
   "execution_count": 46,
   "metadata": {},
   "outputs": [
    {
     "name": "stdout",
     "output_type": "stream",
     "text": [
      "Средняя выручка: -1476346130.4266067\n",
      "95%-ый доверительный интервал: (-2094147516.8253927, -886324753.0472877)\n",
      "Риск убытка = 100.0 %\n"
     ]
    }
   ],
   "source": [
    "values = []\n",
    "for i in range(DIFFERENT_SAMPLES_NUMBER):\n",
    "    target_subsample = third_target_valid.sample(n=ANALYZED_WELLS, replace=True, random_state=state)\n",
    "    probs_subsample = third_model_predict[target_subsample.index]\n",
    "    rev = revenue(target_subsample, probs_subsample, WELLS_NUMBER)\n",
    "    values.append(rev)\n",
    "\n",
    "values = pd.Series(values)\n",
    "confidence_interval = (values.quantile(0.025), values.quantile(0.975))\n",
    "risk_of_loss = len(values[values < 0]) * 100 / len(values)\n",
    "mean = values.mean()\n",
    "print(\"Средняя выручка:\", mean)\n",
    "print(\"95%-ый доверительный интервал:\", confidence_interval)\n",
    "print('Риск убытка =', risk_of_loss, '%')"
   ]
  },
  {
   "cell_type": "markdown",
   "metadata": {},
   "source": [
    "### Вывод по всей работе.\n",
    "\n",
    "    Во-первых, стоит отметить, что модель совершенно точно научилась прогнозировать количество сырья во втором регионе и научилась чуть хуже в первом и третьем. Если оценить rmse в 40 деньгами, можем потерять 18 000 000 или наоборот внезапно их заработать.\n",
    "    Во-вторых, прибыль в первом регионе может быть в 1,4 раза больше чем во-втором, а в третьем просто отрицательна.\n",
    "    В-третьих, риски убытка в первом регионе 7%, во втором 0,4%, а в третьем 100%.\n",
    "    \n",
    "Подытожив, выбирать стоит из первых двух регионов. В первом больше прибыль, но больше риски и меньше вероятность в будущем построить новые модели для дальнейших решений где бурить новые скважины в регионе. Во втором меньше выручка, но он более предсказуем. На мой взгляд второй регион больше подходит при таких исходных данных."
   ]
  }
 ],
 "metadata": {
  "kernelspec": {
   "display_name": "Python 3",
   "language": "python",
   "name": "python3"
  },
  "language_info": {
   "codemirror_mode": {
    "name": "ipython",
    "version": 3
   },
   "file_extension": ".py",
   "mimetype": "text/x-python",
   "name": "python",
   "nbconvert_exporter": "python",
   "pygments_lexer": "ipython3",
   "version": "3.7.6"
  }
 },
 "nbformat": 4,
 "nbformat_minor": 2
}
